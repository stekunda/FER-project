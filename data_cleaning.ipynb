{
 "cells": [
  {
   "cell_type": "code",
   "execution_count": 3,
   "metadata": {},
   "outputs": [],
   "source": [
    "# Imports\n",
    "import os\n",
    "import torch\n",
    "from torchvision import transforms\n",
    "from torchvision.datasets import ImageFolder\n",
    "from torch.utils.data import DataLoader"
   ]
  },
  {
   "cell_type": "code",
   "execution_count": 5,
   "metadata": {},
   "outputs": [
    {
     "ename": "NameError",
     "evalue": "name 'transforms' is not defined",
     "output_type": "error",
     "traceback": [
      "\u001b[1;31m---------------------------------------------------------------------------\u001b[0m",
      "\u001b[1;31mNameError\u001b[0m                                 Traceback (most recent call last)",
      "\u001b[1;32mc:\\Users\\Stekunda\\Documents\\GitHub\\FER\\data_cleaning.ipynb Cell 2\u001b[0m line \u001b[0;36m1\n\u001b[0;32m      <a href='vscode-notebook-cell:/c%3A/Users/Stekunda/Documents/GitHub/FER/data_cleaning.ipynb#W1sZmlsZQ%3D%3D?line=7'>8</a>\u001b[0m TEST_DATA_PATH \u001b[39m=\u001b[39m os\u001b[39m.\u001b[39mpath\u001b[39m.\u001b[39mjoin(os\u001b[39m.\u001b[39mgetcwd(), \u001b[39m'\u001b[39m\u001b[39mdata\u001b[39m\u001b[39m'\u001b[39m, \u001b[39m'\u001b[39m\u001b[39mtest\u001b[39m\u001b[39m'\u001b[39m)\n\u001b[0;32m     <a href='vscode-notebook-cell:/c%3A/Users/Stekunda/Documents/GitHub/FER/data_cleaning.ipynb#W1sZmlsZQ%3D%3D?line=9'>10</a>\u001b[0m \u001b[39m# Define your transformations\u001b[39;00m\n\u001b[1;32m---> <a href='vscode-notebook-cell:/c%3A/Users/Stekunda/Documents/GitHub/FER/data_cleaning.ipynb#W1sZmlsZQ%3D%3D?line=10'>11</a>\u001b[0m transform \u001b[39m=\u001b[39m transforms\u001b[39m.\u001b[39mCompose([\n\u001b[0;32m     <a href='vscode-notebook-cell:/c%3A/Users/Stekunda/Documents/GitHub/FER/data_cleaning.ipynb#W1sZmlsZQ%3D%3D?line=11'>12</a>\u001b[0m     transforms\u001b[39m.\u001b[39mGrayscale(),\n\u001b[0;32m     <a href='vscode-notebook-cell:/c%3A/Users/Stekunda/Documents/GitHub/FER/data_cleaning.ipynb#W1sZmlsZQ%3D%3D?line=12'>13</a>\u001b[0m     transforms\u001b[39m.\u001b[39mResize((IMG_HEIGHT, IMG_WIDTH)),\n\u001b[0;32m     <a href='vscode-notebook-cell:/c%3A/Users/Stekunda/Documents/GitHub/FER/data_cleaning.ipynb#W1sZmlsZQ%3D%3D?line=13'>14</a>\u001b[0m     transforms\u001b[39m.\u001b[39mToTensor()\n\u001b[0;32m     <a href='vscode-notebook-cell:/c%3A/Users/Stekunda/Documents/GitHub/FER/data_cleaning.ipynb#W1sZmlsZQ%3D%3D?line=14'>15</a>\u001b[0m ])\n\u001b[0;32m     <a href='vscode-notebook-cell:/c%3A/Users/Stekunda/Documents/GitHub/FER/data_cleaning.ipynb#W1sZmlsZQ%3D%3D?line=16'>17</a>\u001b[0m \u001b[39m# Load the datasets\u001b[39;00m\n\u001b[0;32m     <a href='vscode-notebook-cell:/c%3A/Users/Stekunda/Documents/GitHub/FER/data_cleaning.ipynb#W1sZmlsZQ%3D%3D?line=17'>18</a>\u001b[0m train_dataset \u001b[39m=\u001b[39m ImageFolder(TRAIN_DATA_PATH, transform\u001b[39m=\u001b[39mtransform)\n",
      "\u001b[1;31mNameError\u001b[0m: name 'transforms' is not defined"
     ]
    }
   ],
   "source": [
    "IMG_HEIGHT = 48\n",
    "IMG_WIDTH = 48\n",
    "\n",
    "# Path to the training data\n",
    "TRAIN_DATA_PATH = os.path.join(os.getcwd(), 'data', 'train')\n",
    "\n",
    "# Path to the test data\n",
    "TEST_DATA_PATH = os.path.join(os.getcwd(), 'data', 'test')\n",
    "\n",
    "# Define your transformations\n",
    "transform = transforms.Compose([\n",
    "    transforms.Grayscale(),\n",
    "    transforms.Resize((IMG_HEIGHT, IMG_WIDTH)),\n",
    "    transforms.ToTensor()\n",
    "])\n",
    "\n",
    "# Load the datasets\n",
    "train_dataset = ImageFolder(TRAIN_DATA_PATH, transform=transform)\n",
    "test_dataset = ImageFolder(TEST_DATA_PATH, transform=transform)\n",
    "\n",
    "# Create the dataloaders\n",
    "train_loader = DataLoader(train_dataset, batch_size=32, shuffle=True)\n",
    "test_loader = DataLoader(test_dataset, batch_size=32, shuffle=False)"
   ]
  }
 ],
 "metadata": {
  "kernelspec": {
   "display_name": "DA515",
   "language": "python",
   "name": "python3"
  },
  "language_info": {
   "codemirror_mode": {
    "name": "ipython",
    "version": 3
   },
   "file_extension": ".py",
   "mimetype": "text/x-python",
   "name": "python",
   "nbconvert_exporter": "python",
   "pygments_lexer": "ipython3",
   "version": "3.8.17"
  }
 },
 "nbformat": 4,
 "nbformat_minor": 2
}
