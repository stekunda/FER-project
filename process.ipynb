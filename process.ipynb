{
 "cells": [
  {
   "cell_type": "code",
   "execution_count": 1,
   "metadata": {},
   "outputs": [],
   "source": [
    "import os\n",
    "import torch\n",
    "from torchvision import transforms\n",
    "from torchvision.datasets import ImageFolder\n",
    "from torch.utils.data import DataLoader\n",
    "from torchvision.transforms import ToPILImage\n",
    "from torch.utils.data import ConcatDataset"
   ]
  },
  {
   "cell_type": "markdown",
   "metadata": {},
   "source": [
    "### Initialization & Preprocessing"
   ]
  },
  {
   "cell_type": "code",
   "execution_count": 2,
   "metadata": {},
   "outputs": [
    {
     "name": "stdout",
     "output_type": "stream",
     "text": [
      "Number of 'disgust' samples: 1308\n"
     ]
    }
   ],
   "source": [
    "IMG_HEIGHT = 48\n",
    "IMG_WIDTH = 48\n",
    "\n",
    "# Path to the training data\n",
    "TRAIN_DATA_PATH = os.path.join(os.getcwd(), 'data', 'train')\n",
    "\n",
    "# Path to the test data\n",
    "TEST_DATA_PATH = os.path.join(os.getcwd(), 'data', 'test')\n",
    "\n",
    "# Disgust Samples Multiplier\n",
    "MULTIPLIER = 3\n",
    "\n",
    "# Define your transformations\n",
    "transform = transforms.Compose([\n",
    "    transforms.Grayscale(),\n",
    "    transforms.Resize((IMG_HEIGHT, IMG_WIDTH)),\n",
    "    transforms.ToTensor()\n",
    "])\n",
    "\n",
    "# Load the datasets\n",
    "train_dataset = ImageFolder(TRAIN_DATA_PATH, transform=transform)\n",
    "test_dataset = ImageFolder(TEST_DATA_PATH, transform=transform)\n",
    "\n",
    "# Create the dataloader for validation set only, train data still needs to be augmented\n",
    "test_loader = DataLoader(test_dataset, batch_size=32, shuffle=False)\n",
    "\n",
    "# Oversampling the disgust samples since we don't have many samples\n",
    "\n",
    "# Define additional transformations for data augmentation\n",
    "augment_transform = transforms.Compose([\n",
    "    transforms.Grayscale(),\n",
    "    transforms.Resize((IMG_HEIGHT, IMG_WIDTH)),\n",
    "    transforms.RandomHorizontalFlip(),\n",
    "    transforms.RandomRotation(10),\n",
    "    transforms.ToTensor()\n",
    "])\n",
    "\n",
    "# Create a new dataset with only the \"disgust\" images\n",
    "disgust_dataset = [img for img in train_dataset if img[1]\n",
    "                   == train_dataset.class_to_idx['disgust']]\n",
    "\n",
    "# Convert Tensor to PIL Image\n",
    "to_pil = ToPILImage()\n",
    "\n",
    "# Apply data augmentation to the \"disgust\" images\n",
    "augmented_disgust_dataset = [(augment_transform(to_pil(img[0])), img[1])\n",
    "                             for _ in range(MULTIPLIER) for img in disgust_dataset]\n",
    "\n",
    "# Combine the original dataset with the augmented \"disgust\" images\n",
    "train_dataset = ConcatDataset([train_dataset, augmented_disgust_dataset])\n",
    "\n",
    "# Update the train DataLoader\n",
    "train_loader = DataLoader(train_dataset, batch_size=32, shuffle=True)\n",
    "\n",
    "# Count the number of \"disgust\" samples in the train_dataset\n",
    "num_disgust_samples = len(disgust_dataset)\n",
    "\n",
    "print(f\"Number of 'disgust' samples: {num_disgust_samples * MULTIPLIER}\")"
   ]
  },
  {
   "cell_type": "markdown",
   "metadata": {},
   "source": [
    "### Train and Evaluate"
   ]
  },
  {
   "cell_type": "code",
   "execution_count": 4,
   "metadata": {},
   "outputs": [
    {
     "name": "stderr",
     "output_type": "stream",
     "text": [
      "  0%|          | 0/242 [00:00<?, ?it/s]"
     ]
    },
    {
     "name": "stderr",
     "output_type": "stream",
     "text": [
      "Epoch 1 loss: 1.943797221361113: 100%|██████████| 242/242 [00:13<00:00, 17.48it/s] \n",
      "Epoch 2 loss: 1.94059882873346: 100%|██████████| 242/242 [00:13<00:00, 18.50it/s]  \n",
      "Epoch 3 loss: 1.9365219729991: 100%|██████████| 242/242 [00:13<00:00, 17.85it/s]   \n",
      "Epoch 4 loss: 1.9318340396092943: 100%|██████████| 242/242 [00:13<00:00, 18.36it/s]\n",
      "Epoch 5 loss: 1.9300252031688847: 100%|██████████| 242/242 [00:13<00:00, 18.15it/s]\n",
      "Epoch 6 loss: 1.925383195404179: 100%|██████████| 242/242 [00:13<00:00, 18.47it/s] \n",
      "Epoch 7 loss: 1.9256146998444865: 100%|██████████| 242/242 [00:13<00:00, 18.03it/s]\n",
      "Epoch 8 loss: 1.922529495452061: 100%|██████████| 242/242 [00:13<00:00, 18.02it/s] \n",
      "Epoch 9 loss: 1.9242701239822324: 100%|██████████| 242/242 [00:13<00:00, 17.98it/s]\n",
      "Epoch 10 loss: 1.92448389677962: 100%|██████████| 242/242 [00:13<00:00, 17.45it/s]  \n",
      "Epoch 11 loss: 1.9240965656012543: 100%|██████████| 242/242 [00:13<00:00, 18.40it/s]\n",
      "Epoch 12 loss: 1.9247833894304007: 100%|██████████| 242/242 [00:12<00:00, 18.70it/s]\n",
      "Epoch 13 loss: 1.9241969137152364: 100%|██████████| 242/242 [00:13<00:00, 18.42it/s]\n",
      "Epoch 14 loss: 1.9246351034188074: 100%|██████████| 242/242 [00:12<00:00, 18.63it/s]\n",
      "Epoch 15 loss: 1.9247836987834333: 100%|██████████| 242/242 [00:12<00:00, 18.73it/s]\n",
      "Epoch 16 loss: 1.9248701565521809: 100%|██████████| 242/242 [00:14<00:00, 17.17it/s]\n",
      "Epoch 17 loss: 1.9247587643379023: 100%|██████████| 242/242 [00:14<00:00, 16.46it/s]\n",
      "Epoch 18 loss: 1.9209356239019346: 100%|██████████| 242/242 [00:14<00:00, 17.19it/s]\n",
      "Epoch 19 loss: 1.9229194694314122: 100%|██████████| 242/242 [00:14<00:00, 16.63it/s]\n",
      "Epoch 20 loss: 1.9246879530347083: 100%|██████████| 242/242 [00:13<00:00, 17.65it/s]\n"
     ]
    },
    {
     "name": "stdout",
     "output_type": "stream",
     "text": [
      "              precision    recall  f1-score   support\n",
      "\n",
      "           0       0.00      0.00      0.00       958\n",
      "           1       0.02      1.00      0.03       111\n",
      "           2       0.00      0.00      0.00      1024\n",
      "           3       0.00      0.00      0.00      1774\n",
      "           4       0.00      0.00      0.00      1233\n",
      "           5       0.00      0.00      0.00      1247\n",
      "           6       0.00      0.00      0.00       831\n",
      "\n",
      "    accuracy                           0.02      7178\n",
      "   macro avg       0.00      0.14      0.00      7178\n",
      "weighted avg       0.00      0.02      0.00      7178\n",
      "\n",
      "Finished Training\n"
     ]
    },
    {
     "name": "stderr",
     "output_type": "stream",
     "text": [
      "c:\\Users\\Stekunda\\anaconda3\\envs\\DA515\\lib\\site-packages\\sklearn\\metrics\\_classification.py:1344: UndefinedMetricWarning: Precision and F-score are ill-defined and being set to 0.0 in labels with no predicted samples. Use `zero_division` parameter to control this behavior.\n",
      "  _warn_prf(average, modifier, msg_start, len(result))\n",
      "c:\\Users\\Stekunda\\anaconda3\\envs\\DA515\\lib\\site-packages\\sklearn\\metrics\\_classification.py:1344: UndefinedMetricWarning: Precision and F-score are ill-defined and being set to 0.0 in labels with no predicted samples. Use `zero_division` parameter to control this behavior.\n",
      "  _warn_prf(average, modifier, msg_start, len(result))\n",
      "c:\\Users\\Stekunda\\anaconda3\\envs\\DA515\\lib\\site-packages\\sklearn\\metrics\\_classification.py:1344: UndefinedMetricWarning: Precision and F-score are ill-defined and being set to 0.0 in labels with no predicted samples. Use `zero_division` parameter to control this behavior.\n",
      "  _warn_prf(average, modifier, msg_start, len(result))\n"
     ]
    }
   ],
   "source": [
    "import torch\n",
    "from torch import optim, nn\n",
    "from cnnNew import FERModel\n",
    "from preprocessing import train_loader, test_loader\n",
    "from tqdm import tqdm\n",
    "from sklearn.metrics import classification_report\n",
    "import numpy as np\n",
    "\n",
    "# Create an instance of the model\n",
    "num_classes = 7  # replace with the number of classes in your dataset\n",
    "model = FERModel(num_classes)\n",
    "\n",
    "# Define the loss function and optimizer\n",
    "criterion = nn.CrossEntropyLoss()\n",
    "optimizer = optim.Adam(model.parameters(), lr=0.001)\n",
    "\n",
    "# Number of epochs to train for\n",
    "num_epochs = 20\n",
    "\n",
    "# Loop over the dataset multiple times\n",
    "for epoch in range(num_epochs):\n",
    "    running_loss = 0.0\n",
    "    progress_bar = tqdm(enumerate(train_loader), total=int(len(train_loader)))\n",
    "    for i, data in progress_bar:\n",
    "        # Get the inputs; data is a list of [inputs, labels]\n",
    "        inputs, labels = data\n",
    "\n",
    "        # Zero the parameter gradients\n",
    "        optimizer.zero_grad()\n",
    "\n",
    "        # Forward + backward + optimize\n",
    "        outputs = model(inputs)\n",
    "        loss = criterion(outputs, labels)\n",
    "        loss.backward()\n",
    "        optimizer.step()\n",
    "\n",
    "        # Print statistics\n",
    "        running_loss += loss.item()\n",
    "        progress_bar.set_description(\n",
    "            f\"Epoch {epoch + 1} loss: {running_loss/(i+1)}\")\n",
    "\n",
    "# Save the trained model\n",
    "torch.save(model.state_dict(), 'bestmodel.pth')\n",
    "\n",
    "# Evaluate the model on the test set and print a classification report\n",
    "model.eval()\n",
    "all_labels = []\n",
    "all_predictions = []\n",
    "with torch.no_grad():\n",
    "    for data in test_loader:\n",
    "        inputs, labels = data\n",
    "        outputs = model(inputs)\n",
    "        _, predicted = torch.max(outputs.data, 1)\n",
    "        all_labels.extend(labels.numpy())\n",
    "        all_predictions.extend(predicted.numpy())\n",
    "\n",
    "print(classification_report(all_labels, all_predictions))\n",
    "\n",
    "print('Finished Training')"
   ]
  }
 ],
 "metadata": {
  "kernelspec": {
   "display_name": "DA515",
   "language": "python",
   "name": "python3"
  },
  "language_info": {
   "codemirror_mode": {
    "name": "ipython",
    "version": 3
   },
   "file_extension": ".py",
   "mimetype": "text/x-python",
   "name": "python",
   "nbconvert_exporter": "python",
   "pygments_lexer": "ipython3",
   "version": "3.8.17"
  }
 },
 "nbformat": 4,
 "nbformat_minor": 2
}
